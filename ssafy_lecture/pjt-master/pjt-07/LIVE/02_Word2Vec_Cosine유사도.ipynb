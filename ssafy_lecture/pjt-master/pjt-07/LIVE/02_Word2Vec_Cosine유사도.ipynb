{
 "cells": [
  {
   "cell_type": "markdown",
   "metadata": {
    "id": "Dk1b8KwMZ-8R"
   },
   "source": [
    "# 1. 라이브러리 설치"
   ]
  },
  {
   "cell_type": "code",
   "execution_count": null,
   "metadata": {
    "colab": {
     "base_uri": "https://localhost:8080/"
    },
    "collapsed": true,
    "executionInfo": {
     "elapsed": 28400,
     "status": "ok",
     "timestamp": 1743050849625,
     "user": {
      "displayName": "박봉주",
      "userId": "08461204019454016306"
     },
     "user_tz": -540
    },
    "id": "9ch0SyExUFfo",
    "outputId": "7dbb3093-af2a-42e9-ecc6-31ba49c2311a"
   },
   "outputs": [],
   "source": [
    "!pip install gensim"
   ]
  },
  {
   "cell_type": "markdown",
   "metadata": {
    "id": "ySvXhOsW674P"
   },
   "source": [
    "- colab의 기본 제공 numpy 버젼은 2.0.2\n",
    "- 2025.4월 기준, 최신 버젼의 gensim은 numpy 1.26.4 버젼을 사용중\n",
    "1. gensim 설치 과정에서 numpy 버젼이 1.26.4로 조정되었음\n",
    "2. 그러나, 현재 실행중인 세션 환경에서는 여전히 numpy 버젼이 2.0.2\n",
    "3. 런타임 > `세션 다시 시작` 을 통해 실행중인 numpy 버젼을 1.26.4 로 업데이트 필요\n",
    "4. numpy version 확인\n",
    "\n",
    "- `세션 다시 시작` 전에 numpy 버젼을 확인하여도 1.26.4 버젼이 확인 되지만 실제 세션에서는 2.0.2 버젼을 사용하고 있으므로 반드시 `세션 다시 시작`을 실행해 주세요.\n"
   ]
  },
  {
   "cell_type": "code",
   "execution_count": null,
   "metadata": {
    "colab": {
     "base_uri": "https://localhost:8080/"
    },
    "executionInfo": {
     "elapsed": 2113,
     "status": "ok",
     "timestamp": 1743050851739,
     "user": {
      "displayName": "박봉주",
      "userId": "08461204019454016306"
     },
     "user_tz": -540
    },
    "id": "bNN7KV36i0Gc",
    "outputId": "69425bb6-51a6-45bc-a3f3-68902cb2cbd9"
   },
   "outputs": [],
   "source": [
    "!pip list | grep numpy"
   ]
  },
  {
   "cell_type": "code",
   "execution_count": null,
   "metadata": {
    "colab": {
     "base_uri": "https://localhost:8080/"
    },
    "executionInfo": {
     "elapsed": 7372,
     "status": "ok",
     "timestamp": 1743050866939,
     "user": {
      "displayName": "박봉주",
      "userId": "08461204019454016306"
     },
     "user_tz": -540
    },
    "id": "P7rON4UVRhbL",
    "outputId": "e654c92f-9272-4f0f-90e8-2c7d163413be"
   },
   "outputs": [],
   "source": [
    "!pip install konlpy"
   ]
  },
  {
   "cell_type": "markdown",
   "metadata": {
    "id": "CIMvY3-UaGCP"
   },
   "source": [
    "# 2. 필요한 라이브러리 import"
   ]
  },
  {
   "cell_type": "code",
   "execution_count": null,
   "metadata": {
    "id": "4jKqGj09RklE"
   },
   "outputs": [],
   "source": [
    "from gensim.models.word2vec import Word2Vec\n",
    "from konlpy.tag import Okt  # 형태소 분석기\n",
    "# 문자열 정리를 위해 정규 표현식 라이브러리 사용\n",
    "import re "
   ]
  },
  {
   "cell_type": "markdown",
   "metadata": {},
   "source": [
    "# 3. 데이터 수집\n",
    "\n",
    "- 대한민국 헌법.txt 파일 업로드"
   ]
  },
  {
   "cell_type": "code",
   "execution_count": null,
   "metadata": {
    "colab": {
     "base_uri": "https://localhost:8080/"
    },
    "collapsed": true,
    "executionInfo": {
     "elapsed": 3,
     "status": "ok",
     "timestamp": 1743052136707,
     "user": {
      "displayName": "박봉주",
      "userId": "08461204019454016306"
     },
     "user_tz": -540
    },
    "id": "tVbd0V0u9eSp",
    "outputId": "b737e220-e06f-4914-c071-dec65517f27c"
   },
   "outputs": [],
   "source": [
    "with open(\"대한민국헌법.txt\", encoding='cp949') as f:\n",
    "\tcontent = f.read()\n",
    "\n",
    "print(len(content)) # 19063글자로 이루어진 문서"
   ]
  },
  {
   "cell_type": "markdown",
   "metadata": {
    "id": "BMt49PtUaW_Y"
   },
   "source": [
    "# 4. 데이터 전처리 - 문장에서 불필요한 문자 제거"
   ]
  },
  {
   "cell_type": "code",
   "execution_count": null,
   "metadata": {
    "colab": {
     "base_uri": "https://localhost:8080/"
    },
    "executionInfo": {
     "elapsed": 19,
     "status": "ok",
     "timestamp": 1743052426246,
     "user": {
      "displayName": "박봉주",
      "userId": "08461204019454016306"
     },
     "user_tz": -540
    },
    "id": "3l3QLgcX_zqL",
    "outputId": "36e0148b-631c-4082-fcd5-789af265682d"
   },
   "outputs": [],
   "source": [
    "# 데이터 정리\n",
    "print(\"[정리 전]\\n\", content[:100])\n",
    "\n",
    "# 문장별로 분리하기 (한글 기준, '.', '?', '!' 뒤에 공백이 오거나 개행이 오는 경우 분리)\n",
    "docs = re.split(r'(?<=[.?!])\\s+', content.strip())\n",
    "\n",
    "# 정규 표현식을 통한 한글 외 문자 제거\n",
    "docs = [re.sub(\"[^ㄱ-ㅎㅏ-ㅣ가-힣 ]\",\"\", doc) for doc in docs]\n",
    "print(\"-\"*50)\n",
    "print(\"[정리 후]\\n\", docs[:5]) # 정리 후 5개 문장 확인"
   ]
  },
  {
   "cell_type": "markdown",
   "metadata": {
    "id": "5MX98XMXaeUg"
   },
   "source": [
    "# 5. 데이터 전처리 - 문장을 단어로 분리(토큰화)"
   ]
  },
  {
   "cell_type": "code",
   "execution_count": null,
   "metadata": {
    "id": "HzWID9NKSkez"
   },
   "outputs": [],
   "source": [
    "# 불용어(분석에 도움이 되지 않는 단어들) 목록을 미리 정의\n",
    "# 예: 조사(의, 가, 이, 는, 등), 자주 등장하지만 의미가 적은 단어(좀, 잘 등)\n",
    "stopwords = ['의','가','이','은','들','는','좀','잘','걍','과','도','를','으로','자','에','와','한','하다']"
   ]
  },
  {
   "cell_type": "code",
   "execution_count": null,
   "metadata": {
    "id": "hn8z0TmLSnLL"
   },
   "outputs": [],
   "source": [
    "# 형태소 분석기 OKT를 사용하여 문장들을 형태소(단어 단위)로 나눌 준비\n",
    "okt = Okt()\n",
    "\n",
    "# 최종 토큰(단어)들을 모아둘 리스트\n",
    "tokenized_data = []\n",
    "# 각 문장(docs의 원소)에 대해 반복하면서 토큰으로 만듦\n",
    "for sentence in (docs):\n",
    "    # okt.morphs: 문장을 형태소(단어) 단위로 나눔. \n",
    "    # stem=True: 어간 추출(원형 복원) 수행\n",
    "    tokenized_sentence = okt.morphs(sentence, stem=True)\n",
    "    # 불용어 목록에 있는 단어들을 제거\n",
    "    sentence = [word for word in tokenized_sentence if not word in stopwords]\n",
    "    # 정제된 단어 리스트를 tokenized_data에 추가\n",
    "    tokenized_data.append(sentence)\n",
    "print(tokenized_data)"
   ]
  },
  {
   "cell_type": "markdown",
   "metadata": {
    "id": "rvJkVl70ayxz"
   },
   "source": [
    "# 6. Word2Vec Model을 활용\n",
    "- 한글 토큰을 100차원의 워드 임베딩 벡터로 변환"
   ]
  },
  {
   "cell_type": "code",
   "execution_count": null,
   "metadata": {
    "id": "8lriT7zOSpkC"
   },
   "outputs": [],
   "source": [
    "\n",
    "# sentences: 학습에 사용할 토큰화된 문장들\n",
    "# vector_size: 단어 벡터 차원 크기(100차원)\n",
    "# window: 주변 단어를 고려하는 윈도우 크기(5)\n",
    "# min_count: 최소 등장 횟수(1회 미만이면 무시)\n",
    "# workers: 병렬 작업 쓰레드 수(4)\n",
    "# sg: 0이면 CBOW 방식, 1이면 Skip-Gram 방식\n",
    "model = Word2Vec(\n",
    "    sentences = tokenized_data,\n",
    "    vector_size = 100,\n",
    "    window = 5,\n",
    "    min_count = 1,\n",
    "    workers = 4,\n",
    "    sg = 0\n",
    ")"
   ]
  },
  {
   "cell_type": "code",
   "execution_count": null,
   "metadata": {
    "colab": {
     "base_uri": "https://localhost:8080/"
    },
    "executionInfo": {
     "elapsed": 3,
     "status": "ok",
     "timestamp": 1743052571589,
     "user": {
      "displayName": "박봉주",
      "userId": "08461204019454016306"
     },
     "user_tz": -540
    },
    "id": "CqjXcaZLZNJh",
    "outputId": "d783e9eb-317d-46cb-f8cd-43c374108bc7"
   },
   "outputs": [],
   "source": [
    "\n",
    "# 가장 많은 빈도수를 보이는 단어 50개 출력\n",
    "print(model.wv.index_to_key[:50])"
   ]
  },
  {
   "cell_type": "markdown",
   "metadata": {},
   "source": [
    "# 7. 불용어 정의 업데이트 및 코드 재 실행 후, 결과 확인​ "
   ]
  },
  {
   "cell_type": "code",
   "execution_count": null,
   "metadata": {},
   "outputs": [],
   "source": [
    "# '을' 추가\n",
    "stopwords = ['을', '의','가','이','은','들','는','좀','잘','걍','과','도','를','으로','자','에','와','한','하다']\n",
    "tokenized_data = []\n",
    "for sentence in (docs):\n",
    "    tokenized_sentence = okt.morphs(sentence, stem=True)\n",
    "    sentence = [word for word in tokenized_sentence if not word in stopwords]\n",
    "    tokenized_data.append(sentence)\n",
    "\n",
    "model = Word2Vec(\n",
    "    sentences = tokenized_data,\n",
    "    vector_size = 100,\n",
    "    window = 5,\n",
    "    min_count = 1,\n",
    "    workers = 4,\n",
    "    sg = 0\n",
    ")"
   ]
  },
  {
   "cell_type": "code",
   "execution_count": null,
   "metadata": {},
   "outputs": [],
   "source": [
    "# 가장 많은 빈도수를 보이는 단어 50개 출력\n",
    "print(model.wv.index_to_key[:50])"
   ]
  },
  {
   "cell_type": "code",
   "execution_count": null,
   "metadata": {
    "colab": {
     "base_uri": "https://localhost:8080/"
    },
    "collapsed": true,
    "executionInfo": {
     "elapsed": 4,
     "status": "ok",
     "timestamp": 1743052576509,
     "user": {
      "displayName": "박봉주",
      "userId": "08461204019454016306"
     },
     "user_tz": -540
    },
    "id": "Udaol3bATBaC",
    "outputId": "9d25588a-0c5e-4751-8485-830db1e137a9"
   },
   "outputs": [],
   "source": [
    "# \"법률\"이라는 단어가 학습된 100차원 벡터를 확인\n",
    "print(model.wv.get_vector(\"법률\"))\n",
    "print(len(model.wv.get_vector(\"법률\")))"
   ]
  },
  {
   "cell_type": "markdown",
   "metadata": {
    "id": "SzpCsTlwbA4a"
   },
   "source": [
    "# 7. 코싸인 유사도 함수 헌법 및 적용"
   ]
  },
  {
   "cell_type": "code",
   "execution_count": null,
   "metadata": {
    "colab": {
     "base_uri": "https://localhost:8080/"
    },
    "executionInfo": {
     "elapsed": 7,
     "status": "ok",
     "timestamp": 1743052616605,
     "user": {
      "displayName": "박봉주",
      "userId": "08461204019454016306"
     },
     "user_tz": -540
    },
    "id": "JbsU4I_aTJls",
    "outputId": "c2fda618-640e-473a-9ce1-a5020d5740a5"
   },
   "outputs": [],
   "source": [
    "import numpy as np\n",
    "from numpy import dot\n",
    "from numpy.linalg import norm\n",
    "\n",
    "# 코사인 유사도 함수\n",
    "def cosine_similarity(A, B):\n",
    "    return dot(A, B) / (norm(A) * norm(B))\n",
    "\n",
    "# '법률'단어 벡터와 '헌법' 단어 벡터 간의 코사인 유사도 계산\n",
    "similarity_value = cosine_similarity(model.wv.get_vector('법률'), model.wv.get_vector('헌법')                        )\n",
    "print(\"'법률'과 '헌법'의 코사인 유사도:\", similarity_value)  # 0.7452134"
   ]
  },
  {
   "cell_type": "code",
   "execution_count": null,
   "metadata": {
    "colab": {
     "base_uri": "https://localhost:8080/"
    },
    "executionInfo": {
     "elapsed": 17,
     "status": "ok",
     "timestamp": 1743052617522,
     "user": {
      "displayName": "박봉주",
      "userId": "08461204019454016306"
     },
     "user_tz": -540
    },
    "id": "bPSuS3GTTMd3",
    "outputId": "d9cafbd5-3b47-4546-dd1f-5e322ee857d3"
   },
   "outputs": [],
   "source": [
    "\n",
    "# 학습된 벡터 중, '헌법'과 가장 유사도가 높은 순으로 10개 단어를 출력\n",
    "most_similar_words = model.wv.most_similar('헌법')\n",
    "print(\"헌법과 유사한 단어 Top 10:\", most_similar_words)"
   ]
  }
 ],
 "metadata": {
  "colab": {
   "authorship_tag": "ABX9TyMRKp1rvk52NtxBPUBCELgF",
   "provenance": []
  },
  "kernelspec": {
   "display_name": "Python 3",
   "language": "python",
   "name": "python3"
  },
  "language_info": {
   "codemirror_mode": {
    "name": "ipython",
    "version": 3
   },
   "file_extension": ".py",
   "mimetype": "text/x-python",
   "name": "python",
   "nbconvert_exporter": "python",
   "pygments_lexer": "ipython3",
   "version": "3.9.13"
  }
 },
 "nbformat": 4,
 "nbformat_minor": 0
}
