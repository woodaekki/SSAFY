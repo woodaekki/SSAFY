{
 "cells": [
  {
   "cell_type": "markdown",
   "metadata": {
    "id": "ORB6FNN1Q0CH"
   },
   "source": [
    "# 1. 도서 제목 및 도서 설명 정의"
   ]
  },
  {
   "cell_type": "code",
   "execution_count": null,
   "metadata": {
    "executionInfo": {
     "elapsed": 2,
     "status": "ok",
     "timestamp": 1743053191940,
     "user": {
      "displayName": "박봉주",
      "userId": "08461204019454016306"
     },
     "user_tz": -540
    },
    "id": "IS4_in1l-he1"
   },
   "outputs": [],
   "source": [
    "doc5_titles = [\n",
    "    \"자바스크립트언어\",\n",
    "    \"일본관광시기\",\n",
    "    \"파이썬언어\",\n",
    "    \"기계학습기초\",\n",
    "    \"스페인방문계절\"\n",
    "]\n",
    "\n",
    "doc5_desc = [\n",
    "    \"자바스크립트는 웹 개발에 필수적인 프로그래밍 언어입니다.\",\n",
    "    \"일본은 벚꽃이 피는 봄이 관광하기 가장 좋은 시기입니다.\",\n",
    "    \"파이썬 언어는 데이터분석과 기계학습에 효율적인 프로그래밍 언어입니다\",\n",
    "    \"기계학습은 데이터를 활용하여 컴퓨터가 학습하도록 하는 기술입니다.\",\n",
    "    \"스페인은 날씨가 온화한 봄이나 가을에 방문하는 것이 이상적입니다.\"\n",
    "]"
   ]
  },
  {
   "cell_type": "code",
   "execution_count": null,
   "metadata": {
    "colab": {
     "base_uri": "https://localhost:8080/"
    },
    "executionInfo": {
     "elapsed": 2826,
     "status": "ok",
     "timestamp": 1743053194774,
     "user": {
      "displayName": "박봉주",
      "userId": "08461204019454016306"
     },
     "user_tz": -540
    },
    "id": "M0WYF5ri-he2",
    "outputId": "f3ec32c0-064b-448d-b52d-f8810bd1db82"
   },
   "outputs": [],
   "source": [
    "from openai import OpenAI\n",
    "\n",
    "client = OpenAI(\n",
    "    api_key=\"UPSATGE_API_KEY\",\n",
    "    base_url=\"https://api.upstage.ai/v1/solar\"\n",
    ")\n",
    "\n",
    "response = client.embeddings.create(\n",
    "    model = \"embedding-passage\",\n",
    "    input = doc5_desc\n",
    ").data\n",
    "\n",
    "embedding_vectors = [i.embedding for i in response]"
   ]
  },
  {
   "cell_type": "code",
   "execution_count": null,
   "metadata": {
    "colab": {
     "base_uri": "https://localhost:8080/"
    },
    "executionInfo": {
     "elapsed": 2,
     "status": "ok",
     "timestamp": 1743053194776,
     "user": {
      "displayName": "박봉주",
      "userId": "08461204019454016306"
     },
     "user_tz": -540
    },
    "id": "qXrPtFn9Vl4Z",
    "outputId": "c8e2dca5-3b3a-4f13-94a5-2439de6f649f"
   },
   "outputs": [],
   "source": [
    "# 임베딩 벡터 데이터만 리스트로 추출\n",
    "embedding_vectors = [i.embedding for i in response]\n",
    "# 생성된 벡터 데이터수 == 문서 수\n",
    "print(len(embedding_vectors))\n",
    "# 업스테이지 임베딩 모델의 벡터 차원 == 4096\n",
    "print(len(embedding_vectors[0]))"
   ]
  },
  {
   "cell_type": "markdown",
   "metadata": {
    "id": "C8u-rv6qRNN3"
   },
   "source": [
    "# 2. 문서 간 코싸인 유사도 계산"
   ]
  },
  {
   "cell_type": "code",
   "execution_count": null,
   "metadata": {
    "executionInfo": {
     "elapsed": 1,
     "status": "ok",
     "timestamp": 1743053194793,
     "user": {
      "displayName": "박봉주",
      "userId": "08461204019454016306"
     },
     "user_tz": -540
    },
    "id": "G6bFamQU-he3"
   },
   "outputs": [],
   "source": [
    "from sklearn.metrics.pairwise import cosine_similarity\n",
    "\n",
    "similarities = cosine_similarity(embedding_vectors, embedding_vectors)\n",
    "print(similarities)"
   ]
  },
  {
   "cell_type": "markdown",
   "metadata": {},
   "source": [
    "# 3. 첫번째 책의 유사도 정렬"
   ]
  },
  {
   "cell_type": "code",
   "execution_count": null,
   "metadata": {
    "colab": {
     "base_uri": "https://localhost:8080/"
    },
    "collapsed": true,
    "executionInfo": {
     "elapsed": 23,
     "status": "ok",
     "timestamp": 1743053194822,
     "user": {
      "displayName": "박봉주",
      "userId": "08461204019454016306"
     },
     "user_tz": -540
    },
    "id": "SXOZ5cL3-he3",
    "outputId": "5ed7359e-90ed-4a37-bc58-00d4da705655"
   },
   "outputs": [],
   "source": [
    "# 첫번째 책의 각 책과의 유사도 정보 (index, 유사도)\n",
    "sim_scores = list(enumerate(similarities[0]))\n",
    "\n",
    "# 유사 기준 내림차순 정렬\n",
    "sim_scores.sort(key = lambda x: x[1], reverse = True)\n",
    "\n",
    "# 자기 자신은 제외한 상위 3개 문서 출력\n",
    "print(sim_scores[1:4] )"
   ]
  },
  {
   "cell_type": "markdown",
   "metadata": {
    "id": "W7Il07goRpgN"
   },
   "source": [
    "# 4. 책 정보가 유사한 도서 추천"
   ]
  },
  {
   "cell_type": "code",
   "execution_count": null,
   "metadata": {
    "executionInfo": {
     "elapsed": 1,
     "status": "ok",
     "timestamp": 1743053194837,
     "user": {
      "displayName": "박봉주",
      "userId": "08461204019454016306"
     },
     "user_tz": -540
    },
    "id": "zWyod0jRzQEr"
   },
   "outputs": [],
   "source": [
    "books_titles = doc5_titles\n",
    "\n",
    "def recommendations(title):\n",
    "    # 책의 제목을 입력하면 해당 제목의 인덱스를 리턴받아 idx에 저장.\n",
    "    if title in books_titles :\n",
    "        idx=books_titles.index(title)\n",
    "        similar_doc = similarities[idx]\n",
    "    else :\n",
    "        print(\"도서 정보가 존재하지 않습니다.\")\n",
    "        return []\n",
    "\n",
    "    # 입력된 책과 줄거리(document embedding)가 유사한 책 3개 선정.\n",
    "    sim_scores = list(enumerate(similar_doc)) # (index, 유사도) 튜플의 리스트\n",
    "    sim_scores = sorted(sim_scores, key = lambda x: x[1], reverse = True) # 유사도 높은 순서로 sorting\n",
    "    sim_scores = sim_scores[1:4] # 자기 자신은 제외한 상위 3개\n",
    "    print(sim_scores)\n",
    "\n",
    "    similar_books_titles = []\n",
    "    # 유사한 책 제목 출력\n",
    "    for index, book_info in sim_scores:\n",
    "        title=books_titles[index]\n",
    "        similar_books_titles.append(title)\n",
    "\n",
    "    return similar_books_titles"
   ]
  },
  {
   "cell_type": "code",
   "execution_count": null,
   "metadata": {
    "colab": {
     "base_uri": "https://localhost:8080/"
    },
    "executionInfo": {
     "elapsed": 4,
     "status": "ok",
     "timestamp": 1743053194850,
     "user": {
      "displayName": "박봉주",
      "userId": "08461204019454016306"
     },
     "user_tz": -540
    },
    "id": "MegIKiKI0Pl1",
    "outputId": "2e5657f3-0981-4807-b57a-00033195eefd"
   },
   "outputs": [],
   "source": [
    "\n",
    "title=\"소년이 온다\"\n",
    "#title = \"이반 일리치의 죽음\"\n",
    "recommendations(title)"
   ]
  },
  {
   "cell_type": "code",
   "execution_count": null,
   "metadata": {
    "colab": {
     "base_uri": "https://localhost:8080/"
    },
    "executionInfo": {
     "elapsed": 30,
     "status": "ok",
     "timestamp": 1743053194878,
     "user": {
      "displayName": "박봉주",
      "userId": "08461204019454016306"
     },
     "user_tz": -540
    },
    "id": "Xs1j8Tgf5CMX",
    "outputId": "6dd8b6d3-5bbe-436b-a5ed-ef2e2932f5e5"
   },
   "outputs": [],
   "source": [
    "title=\"자바스크립트언어\"\n",
    "# title=\"스페인방문계절\"\n",
    "recommendations(title)"
   ]
  },
  {
   "cell_type": "code",
   "execution_count": null,
   "metadata": {
    "executionInfo": {
     "elapsed": 1,
     "status": "ok",
     "timestamp": 1743053194879,
     "user": {
      "displayName": "박봉주",
      "userId": "08461204019454016306"
     },
     "user_tz": -540
    },
    "id": "kmAu7fvkNq78"
   },
   "outputs": [],
   "source": [
    "doc5_titles = [\n",
    "    \"일본관광시기\",\n",
    "    \"자바스크립트언어\",\n",
    "    \"파이썬언어\",\n",
    "    \"기계학습기초\",\n",
    "    \"스페인방문계절\"\n",
    "]\n",
    "\n",
    "doc5_desc = [\n",
    "    \"일본은 벚꽃이 피는 봄이 관광하기 가장 좋은 시기입니다.\",\n",
    "    \"자바스크립트는 웹 개발에 필수적인 프로그래밍 언어입니다.\",\n",
    "    \"파이썬 언어는 데이터분석과 기계학습에 효율적인 프로그래밍 언어입니다\",\n",
    "    \"기계학습은 데이터를 활용하여 컴퓨터가 학습하도록 하는 기술입니다.\",\n",
    "    \"스페인은 날씨가 온화한 봄이나 가을에 방문하는 것이 이상적입니다.\"\n",
    "]"
   ]
  },
  {
   "cell_type": "markdown",
   "metadata": {
    "id": "4nBTCZ4tRyjZ"
   },
   "source": [
    "# 5. [참고1] 임베딩 벡터 파일, 코싸인 유사도 파일 저장하고 불러쓰기"
   ]
  },
  {
   "cell_type": "code",
   "execution_count": null,
   "metadata": {
    "executionInfo": {
     "elapsed": 0,
     "status": "ok",
     "timestamp": 1743053194879,
     "user": {
      "displayName": "박봉주",
      "userId": "08461204019454016306"
     },
     "user_tz": -540
    },
    "id": "N-FB0nzG-he3"
   },
   "outputs": [],
   "source": [
    "import pickle\n",
    "\n",
    "# pickle로 저장하기\n",
    "with open(\"embedding_vectors_upstage_doc5.pickle\",\"wb\") as f:\n",
    "    pickle.dump(embedding_vectors, f)\n",
    "\n",
    "# pickle로 불러오기\n",
    "with open(\"embedding_vectors_upstage_doc5.pickle\",\"rb\") as f:\n",
    "\tembedding_vectors=pickle.load(f)\n",
    "\n",
    "# pickle로 저장하기\n",
    "with open(\"similarities_upstage_doc5.pickle\",\"wb\") as f:\n",
    "    pickle.dump(similarities, f)\n",
    "\n",
    "# pickle로 불러오기\n",
    "with open(\"similarities_upstage_doc5.pickle\",\"rb\") as f:\n",
    "\tsimilarities=pickle.load(f)"
   ]
  },
  {
   "cell_type": "markdown",
   "metadata": {
    "id": "6ML51WbazRYi"
   },
   "source": [
    "# 6. [참고2] 임베딩 벡터 시각화\n",
    "https://projector.tensorflow.org/\n",
    "\n"
   ]
  },
  {
   "cell_type": "code",
   "execution_count": null,
   "metadata": {
    "executionInfo": {
     "elapsed": 56,
     "status": "ok",
     "timestamp": 1743053220072,
     "user": {
      "displayName": "박봉주",
      "userId": "08461204019454016306"
     },
     "user_tz": -540
    },
    "id": "EwTMaf6t-he7"
   },
   "outputs": [],
   "source": [
    "import os\n",
    "import tensorflow as tf\n",
    "import pandas as pd\n",
    "\n",
    "LOG_DIR='./log_dir'\n",
    "# 경로에 해당하는 directory가 없으면 생성\n",
    "os.makedirs(LOG_DIR, exist_ok=True)\n",
    "\n",
    "weights = tf.Variable(embedding_vectors)\n",
    "df = pd.DataFrame(weights)\n",
    "df.to_csv(os.path.join(LOG_DIR, \"embedding_vectors_upstage_doc5.tsv\"), sep = '\\t', index = False, header=False)"
   ]
  },
  {
   "cell_type": "code",
   "execution_count": null,
   "metadata": {
    "executionInfo": {
     "elapsed": 40,
     "status": "ok",
     "timestamp": 1743053222605,
     "user": {
      "displayName": "박봉주",
      "userId": "08461204019454016306"
     },
     "user_tz": -540
    },
    "id": "LZIThtLu-he7"
   },
   "outputs": [],
   "source": [
    "with open(os.path.join(LOG_DIR, 'metadata_upstage_doc5.tsv'), \"w\", encoding='utf-8') as f:\n",
    "    for title in doc5_titles :\n",
    "        f.write(title+'\\n')"
   ]
  }
 ],
 "metadata": {
  "colab": {
   "provenance": [
    {
     "file_id": "1MwZDwaznPFobTe1UQW1C-apBMcxgtx-O",
     "timestamp": 1743003258112
    }
   ],
   "toc_visible": true
  },
  "kernelspec": {
   "display_name": "Python 3",
   "language": "python",
   "name": "python3"
  },
  "language_info": {
   "codemirror_mode": {
    "name": "ipython",
    "version": 3
   },
   "file_extension": ".py",
   "mimetype": "text/x-python",
   "name": "python",
   "nbconvert_exporter": "python",
   "pygments_lexer": "ipython3",
   "version": "3.9.13"
  }
 },
 "nbformat": 4,
 "nbformat_minor": 0
}
