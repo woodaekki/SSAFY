{
 "cells": [
  {
   "cell_type": "markdown",
   "metadata": {
    "id": "omb4SezrswFs"
   },
   "source": [
    "# 1. 라이브러리 설치"
   ]
  },
  {
   "cell_type": "code",
   "execution_count": null,
   "metadata": {
    "colab": {
     "base_uri": "https://localhost:8080/"
    },
    "executionInfo": {
     "elapsed": 10561,
     "status": "ok",
     "timestamp": 1742978002367,
     "user": {
      "displayName": "박봉주",
      "userId": "08461204019454016306"
     },
     "user_tz": -540
    },
    "id": "BZLF6jkYtQWV",
    "outputId": "864269a8-4ddd-48ac-d4e1-9d5c4201a48d"
   },
   "outputs": [],
   "source": [
    "!pip install gensim"
   ]
  },
  {
   "cell_type": "markdown",
   "metadata": {},
   "source": [
    "- colab의 기본 제공 numpy 버젼은 2.0.2\n",
    "- 2025.4월 기준, 최신 버젼의 gensim은 numpy 1.26.4 버젼을 사용중\n",
    "1. gensim 설치 과정에서 numpy 버젼이 1.26.4로 조정되었음\n",
    "2. 그러나, 현재 실행중인 세션 환경에서는 여전히 numpy 버젼이 2.0.2\n",
    "3. 런타임 > `세션 다시 시작` 을 통해 실행중인 numpy 버젼을 1.26.4 로 업데이트 필요\n",
    "4. numpy version 확인\n",
    "\n",
    "- `세션 다시 시작` 전에 numpy 버젼을 확인하여도 1.26.4 버젼이 확인 되지만 실제 세션에서는 2.0.2 버젼을 사용하고 있으므로 반드시 `세션 다시 시작`을 실행해 주세요.\n"
   ]
  },
  {
   "cell_type": "code",
   "execution_count": null,
   "metadata": {
    "id": "6W-qhyH_47H3"
   },
   "outputs": [],
   "source": [
    "!pip list | grep numpy"
   ]
  },
  {
   "cell_type": "code",
   "execution_count": null,
   "metadata": {
    "colab": {
     "base_uri": "https://localhost:8080/"
    },
    "executionInfo": {
     "elapsed": 4544,
     "status": "ok",
     "timestamp": 1742977981840,
     "user": {
      "displayName": "박봉주",
      "userId": "08461204019454016306"
     },
     "user_tz": -540
    },
    "id": "LCXNud3BssB1",
    "outputId": "2da1430c-13f0-45a1-90c3-cd054807510f"
   },
   "outputs": [],
   "source": [
    "!pip install konlpy"
   ]
  },
  {
   "cell_type": "markdown",
   "metadata": {},
   "source": [
    "# 2. 필요한 라이브러리 import"
   ]
  },
  {
   "cell_type": "code",
   "execution_count": null,
   "metadata": {
    "id": "LazTbEt3st8T"
   },
   "outputs": [],
   "source": [
    "from gensim.models import Doc2Vec\n",
    "from konlpy.tag import Okt"
   ]
  },
  {
   "cell_type": "markdown",
   "metadata": {
    "id": "O00ceGbrsznU"
   },
   "source": [
    "# 3. 한국어 문장(Document)을 임베딩 벡터로 변환"
   ]
  },
  {
   "cell_type": "code",
   "execution_count": null,
   "metadata": {
    "colab": {
     "base_uri": "https://localhost:8080/"
    },
    "executionInfo": {
     "elapsed": 9538,
     "status": "ok",
     "timestamp": 1742978054874,
     "user": {
      "displayName": "박봉주",
      "userId": "08461204019454016306"
     },
     "user_tz": -540
    },
    "id": "gTZ-mCp9tTdY",
    "outputId": "48ef2052-6fce-457b-c06e-d4b3d69cf121"
   },
   "outputs": [],
   "source": [
    "from gensim.models.doc2vec import TaggedDocument\n",
    "\n",
    "docs=[\n",
    "    '자바스크립트는 웹사이트에 동적인 기능을 추가하는 핵심 프로그래밍 언어입니다',\n",
    "    '일본 도쿄는 현대적인 도심과 전통 문화가 공존하는 인기 여행지입니다.',\n",
    "    '파이썬은 데이터 분석과 인공지능 개발에 널리 사용되는 프로그래밍 언어입니다.',\n",
    "    '김치찌개는 매운맛을 즐기는 한국인들에게 사랑받는 대표적인 국물 요리입니다.',\n",
    "    '스페인 바르셀로나는 건축가 가우디의 예술 작품과 맛있는 해산물 요리로 유명합니다'\n",
    "]\n",
    "\n",
    "# 형태소 분석기\n",
    "okt = Okt()\n",
    "\n",
    "documents = []\n",
    "for i,doc in enumerate(docs):\n",
    "    # okt.morphs: 문장을 형태소(단어) 단위로 나눔. \n",
    "    documents.append(TaggedDocument(tags=[i],words=okt.morphs(doc)))\n",
    "print('문서의 수 :', len(documents))\n"
   ]
  },
  {
   "cell_type": "code",
   "execution_count": null,
   "metadata": {
    "id": "n7VBdeMttDls"
   },
   "outputs": [],
   "source": [
    "# 여기서 학습률이란, 모델이 학습을 통해 가중치를 업데이트하는 정도를 의미\n",
    "# 학습률이 높을수록 가중치 업데이트가 크게 이루어지며, 낮을수록 작게 이루어짐.\n",
    "model = Doc2Vec(\n",
    "    vector_size=300,    # 벡터의 차원\n",
    "    min_count=1,        # 단어 최소 빈도수\n",
    "    alpha=1.0,            # 학습률\n",
    "    min_alpha=0.025,    # 학습률 초기값\n",
    "    window=4            # 문맥의 크기\n",
    "  )"
   ]
  },
  {
   "cell_type": "code",
   "execution_count": null,
   "metadata": {},
   "outputs": [],
   "source": [
    "# Vocabulary 빌드\n",
    "# 모델이 학습 할 문서 빌드\n",
    "model.build_vocab(documents)\n",
    "\n",
    "# Doc2Vec 학습\n",
    "# model.corpus_count: 학습 할 문서의 총 개수\n",
    "# epochs: 학습 할 에포크 수\n",
    "model.train(documents, total_examples=model.corpus_count, epochs=20)"
   ]
  },
  {
   "cell_type": "code",
   "execution_count": null,
   "metadata": {
    "colab": {
     "base_uri": "https://localhost:8080/"
    },
    "executionInfo": {
     "elapsed": 13,
     "status": "ok",
     "timestamp": 1742978149717,
     "user": {
      "displayName": "박봉주",
      "userId": "08461204019454016306"
     },
     "user_tz": -540
    },
    "id": "CbCSZLl-ua2t",
    "outputId": "a600e142-ed70-4a26-d9c1-9b53d4e6e1f7"
   },
   "outputs": [],
   "source": [
    "# 첫번째 문장과 가장 유사한 문장은 1번 문장?\n",
    "model.dv.most_similar(0)\n",
    "\n",
    "'''\n",
    "    출력 결과\n",
    "    [(1, 0.9072750806808472),\n",
    "    (2, 0.9051600098609924),\n",
    "    (4, 0.10807963460683823),\n",
    "    (3, 0.04453643783926964)]\n",
    "'''"
   ]
  }
 ],
 "metadata": {
  "colab": {
   "authorship_tag": "ABX9TyPLXpi/od3tP4p+w57Iybf8",
   "provenance": []
  },
  "kernelspec": {
   "display_name": "Python 3",
   "language": "python",
   "name": "python3"
  },
  "language_info": {
   "codemirror_mode": {
    "name": "ipython",
    "version": 3
   },
   "file_extension": ".py",
   "mimetype": "text/x-python",
   "name": "python",
   "nbconvert_exporter": "python",
   "pygments_lexer": "ipython3",
   "version": "3.9.13"
  }
 },
 "nbformat": 4,
 "nbformat_minor": 0
}
