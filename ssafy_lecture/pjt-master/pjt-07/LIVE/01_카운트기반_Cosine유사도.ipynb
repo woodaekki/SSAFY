{
 "cells": [
  {
   "cell_type": "code",
   "execution_count": null,
   "metadata": {
    "colab": {
     "base_uri": "https://localhost:8080/"
    },
    "executionInfo": {
     "elapsed": 5288,
     "status": "ok",
     "timestamp": 1743054360445,
     "user": {
      "displayName": "박봉주",
      "userId": "08461204019454016306"
     },
     "user_tz": -540
    },
    "id": "qr-VxY1rIkQd",
    "outputId": "8fe8bbdc-30f0-4c03-d773-b672d761acec"
   },
   "outputs": [],
   "source": [
    "from sklearn.feature_extraction.text import CountVectorizer\n",
    "import numpy as np\n",
    "\n",
    "# 문서 정의\n",
    "docs = [\n",
    "    \"먹고 싶은 사과\",\n",
    "    \"먹고 싶은 바나나\",\n",
    "    \"길고 노란 바나나 바나나\",\n",
    "    \"저는 과일이 좋아요\"\n",
    "]\n",
    "\n",
    "# CountVectorizer로 단어 카운트 행렬 생성\n",
    "vectorizer = CountVectorizer()\n",
    "X = vectorizer.fit_transform(docs)\n",
    "print(X)\n",
    "\n",
    "# numpy 배열로 변환\n",
    "doc_term_matrix = X.toarray()\n",
    "\n",
    "# 단어 목록 확인\n",
    "vocab = vectorizer.get_feature_names_out()\n",
    "\n",
    "# 결과 출력\n",
    "print(\"단어 목록:\", vocab)\n",
    "print(\"\\n문서-단어 행렬:\\n\", doc_term_matrix)"
   ]
  },
  {
   "cell_type": "code",
   "execution_count": null,
   "metadata": {
    "colab": {
     "base_uri": "https://localhost:8080/"
    },
    "executionInfo": {
     "elapsed": 6,
     "status": "ok",
     "timestamp": 1743054501568,
     "user": {
      "displayName": "박봉주",
      "userId": "08461204019454016306"
     },
     "user_tz": -540
    },
    "id": "GsHeT2t1JISx",
    "outputId": "6ede3e2b-88d4-445e-aec7-7838d7c36f9c"
   },
   "outputs": [],
   "source": [
    "from numpy import dot                             # 문서 목록\n",
    "from numpy.linalg import norm                     # docs = [\n",
    "                                                  #   \"먹고 싶은 사과\",\n",
    "def cosine_similarity(A, B):                      #   \"먹고 싶은 바나나\",\n",
    "  return dot(A, B)/(norm(A)*norm(B))              #   \"길고 노란 바나나 바나나\",\n",
    "                                                  #   \"저는 과일이 좋아요\"\n",
    "for i in range(len(doc_term_matrix)):             # ]\n",
    "  for j in range(i+1, len(doc_term_matrix)):\n",
    "    print(f'문서{i+1}과 문서{j+1}의 유사도:')\n",
    "    print(cosine_similarity(doc_term_matrix[i], doc_term_matrix[j]))\n",
    "    print('-'*30)"
   ]
  }
 ],
 "metadata": {
  "colab": {
   "authorship_tag": "ABX9TyPmlq8w5Vi+fvbqQi2uki8g",
   "provenance": []
  },
  "kernelspec": {
   "display_name": "venv",
   "language": "python",
   "name": "python3"
  },
  "language_info": {
   "codemirror_mode": {
    "name": "ipython",
    "version": 3
   },
   "file_extension": ".py",
   "mimetype": "text/x-python",
   "name": "python",
   "nbconvert_exporter": "python",
   "pygments_lexer": "ipython3",
   "version": "3.9.13"
  }
 },
 "nbformat": 4,
 "nbformat_minor": 0
}
