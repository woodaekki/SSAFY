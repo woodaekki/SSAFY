{
 "cells": [
  {
   "cell_type": "markdown",
   "metadata": {
    "id": "a3ToQps46U6O"
   },
   "source": [
    "# 1.  OpenAI Embedding model 활용"
   ]
  },
  {
   "cell_type": "markdown",
   "metadata": {
    "id": "IsuXQEr86nLw"
   },
   "source": [
    "- OpenAI client 및 문서 정보 정의​"
   ]
  },
  {
   "cell_type": "code",
   "execution_count": null,
   "metadata": {
    "executionInfo": {
     "elapsed": 899,
     "status": "ok",
     "timestamp": 1742979664297,
     "user": {
      "displayName": "박봉주",
      "userId": "08461204019454016306"
     },
     "user_tz": -540
    },
    "id": "RKBfAn6K4DSi"
   },
   "outputs": [],
   "source": [
    "from openai import OpenAI\n",
    "\n",
    "# OpenAI API 키 설정\n",
    "client = OpenAI(api_key=\"OPENAI_API_KEY\")\n",
    "passage_list = [\n",
    "    \"먹고 싶은 사과\",\n",
    "    \"먹고 싶은 바나나\",\n",
    "    \"길고 노란 바나나 바나나\",\n",
    "    \"봄이 와서 날씨가 좋습니다\",\n",
    "]"
   ]
  },
  {
   "cell_type": "code",
   "execution_count": null,
   "metadata": {},
   "outputs": [],
   "source": [
    "# OpenAI Embedding 요청\n",
    "# passage_list에 있는 각 문장을 벡터로 변환\n",
    "response = client.embeddings.create(\n",
    "    model=\"text-embedding-3-small\",\n",
    "    input=passage_list\n",
    ").data\n",
    "\n",
    "print(response)"
   ]
  },
  {
   "cell_type": "code",
   "execution_count": null,
   "metadata": {
    "executionInfo": {
     "elapsed": 4,
     "status": "ok",
     "timestamp": 1742979668725,
     "user": {
      "displayName": "박봉주",
      "userId": "08461204019454016306"
     },
     "user_tz": -540
    },
    "id": "nYJu2bAQdVUQ"
   },
   "outputs": [],
   "source": [
    "\n",
    "######################################\n",
    "# 결과에서 'embedding' 벡터만 추출\n",
    "######################################\n",
    "passage_embedding_list = [item.embedding for item in response]\n",
    "\n",
    "# 임베딩 차원 확인\n",
    "# 문장이 각각 1536 차원 벡터으로 변환 되었음을 확인\n",
    "print(len(passage_embedding_list[0]),\n",
    "      len(passage_embedding_list[1]),\n",
    "      len(passage_embedding_list[2]),\n",
    "      len(passage_embedding_list[3]))"
   ]
  },
  {
   "cell_type": "code",
   "execution_count": null,
   "metadata": {
    "colab": {
     "base_uri": "https://localhost:8080/"
    },
    "collapsed": true,
    "executionInfo": {
     "elapsed": 73,
     "status": "ok",
     "timestamp": 1742979673063,
     "user": {
      "displayName": "박봉주",
      "userId": "08461204019454016306"
     },
     "user_tz": -540
    },
    "id": "PoVNPalJ4hXL",
    "outputId": "f38af35d-ef14-4c56-8ac7-c292cfba1cea"
   },
   "outputs": [],
   "source": [
    "# 예시로 첫 번째 문장의 벡터 내용을 확인(숫자 1536개)\n",
    "passage_embedding_list[0]"
   ]
  },
  {
   "cell_type": "markdown",
   "metadata": {
    "id": "QP75bt8d6p1Q"
   },
   "source": [
    "# 2. 문서 벡터 기반 코싸인 유사도 계산 및 결과 확인"
   ]
  },
  {
   "cell_type": "code",
   "execution_count": null,
   "metadata": {
    "colab": {
     "base_uri": "https://localhost:8080/"
    },
    "executionInfo": {
     "elapsed": 47,
     "status": "ok",
     "timestamp": 1742979685732,
     "user": {
      "displayName": "박봉주",
      "userId": "08461204019454016306"
     },
     "user_tz": -540
    },
    "id": "ZlNP6KdM6plp",
    "outputId": "3ef7ec14-ebdd-49f9-86c7-545d6472cf27"
   },
   "outputs": [],
   "source": [
    "from numpy import dot\n",
    "from numpy.linalg import norm\n",
    "\n",
    "def cosine_similarity(A, B):\n",
    "    # 코사인 유사도 = (A 내적 B) / (A 길이 x B 길이)\n",
    "    return dot(A, B) / (norm(A) * norm(B))\n",
    "\n",
    "# 문서(문장)들 간의 코사인 유사도 출력\n",
    "for i in range(len(passage_embedding_list)+1):\n",
    "    for j in range(i+1, len(passage_embedding_list)):\n",
    "        similarity = cosine_similarity(passage_embedding_list[i],\n",
    "                                       passage_embedding_list[j])\n",
    "        print(f'문서 {i+1}과 문서 {j+1}의 유사도 : {similarity}')"
   ]
  },
  {
   "cell_type": "code",
   "execution_count": null,
   "metadata": {
    "executionInfo": {
     "elapsed": 1,
     "status": "ok",
     "timestamp": 1742979690552,
     "user": {
      "displayName": "박봉주",
      "userId": "08461204019454016306"
     },
     "user_tz": -540
    },
    "id": "toQDHAKW5ixK"
   },
   "outputs": [],
   "source": [
    "passage_list = [\n",
    "    \"먹고 싶은 사과\",\n",
    "    \"먹고 싶은 바나나\",\n",
    "    \"길고 노란 바나나 바나나\",\n",
    "    \"봄이 와서 날씨가 좋습니다\",\n",
    "]\n"
   ]
  }
 ],
 "metadata": {
  "colab": {
   "authorship_tag": "ABX9TyNPIscalkuvU3r9AWAUDqh9",
   "provenance": [
    {
     "file_id": "17hAwSUnuTLXzd9HJWUK8aaf_7Ki2FYzH",
     "timestamp": 1742975138859
    }
   ],
   "toc_visible": true
  },
  "kernelspec": {
   "display_name": "Python 3",
   "name": "python3"
  },
  "language_info": {
   "name": "python",
   "version": "3.9.13"
  }
 },
 "nbformat": 4,
 "nbformat_minor": 0
}
